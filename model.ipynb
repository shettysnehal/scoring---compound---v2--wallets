{
 "cells": [
  {
   "cell_type": "code",
   "execution_count": 1,
   "id": "b370bccf",
   "metadata": {},
   "outputs": [],
   "source": [
    "import json\n",
    "import os\n",
    "files = ['transactions1.json', 'transactions2.json', 'transactions3.json']\n",
    "combined_data = {\n",
    "    'deposits': [],\n",
    "    'borrows': [],\n",
    "    'withdrawals': [],\n",
    "    'repays': [],\n",
    "    'liquidations': []\n",
    "}\n",
    "for filename in files:\n",
    "    file_path = os.path.join(\"transactions\", filename)  # Correct path to each file\n",
    "    with open(file_path, 'r') as f:\n",
    "        data = json.load(f)\n",
    "        for key in combined_data.keys():\n",
    "            if key in data:\n",
    "                combined_data[key].extend(data[key])\n"
   ]
  },
  {
   "cell_type": "code",
   "execution_count": null,
   "id": "bebdcf01",
   "metadata": {},
   "outputs": [],
   "source": []
  }
 ],
 "metadata": {
  "kernelspec": {
   "display_name": "Python 3",
   "language": "python",
   "name": "python3"
  },
  "language_info": {
   "codemirror_mode": {
    "name": "ipython",
    "version": 3
   },
   "file_extension": ".py",
   "mimetype": "text/x-python",
   "name": "python",
   "nbconvert_exporter": "python",
   "pygments_lexer": "ipython3",
   "version": "3.12.0"
  }
 },
 "nbformat": 4,
 "nbformat_minor": 5
}
